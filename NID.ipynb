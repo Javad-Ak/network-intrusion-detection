{
 "cells": [
  {
   "cell_type": "markdown",
   "id": "d002fb49a11e13a4",
   "metadata": {},
   "source": [
    "# Network Intrusion Detection on the NSL-KDD Dataset\n",
    "\n",
    "---\n",
    "\n",
    "**Author:** Mohammad Javad Akbari\n",
    "<br>**Username:** Javad-Ak\n",
    "\n",
    "## 1. Introduction\n",
    "\n",
    "This notebook presents a comprehensive workflow for building and evaluating machine learning models for Network Intrusion Detection (NID) using the **NSL-KDD dataset**. The primary goal is to classify network traffic as either 'normal' or one of several attack types.\n",
    "\n",
    "We will explore, preprocess, and engineer features from the dataset to train three powerful classification models:\n",
    "1. **Random Forest:** A robust ensemble model known for its high accuracy and resistance to overfitting.\n",
    "2. **XGBoost:** A highly efficient and scalable gradient boosting implementation, often a top performer in competitions.\n",
    "3. **Deep Neural Network (DNN):** A TensorFlow-based model capable of learning complex, non-linear patterns in the data.\n",
    "4. **Gated Recurrent Unit (GRU) Network**: A type of recurrent neural network effective for sequence data, adapted here for tabular classification.\n",
    "\n",
    "The process includes:\n",
    "- **Data Loading and Cleaning:** Importing the dataset and preparing it for analysis.\n",
    "- **Feature Engineering:** Creating new features to improve model performance.\n",
    "- **Handling Class Imbalance:** Using **SMOTETomek** to create a more balanced training set.\n",
    "- **Hyperparameter Tuning:** Employing `RandomizedSearchCV` to find the best settings. (removed from last commit)\n",
    "- **Model Evaluation and Comparison:** Analyzing performance metrics (Accuracy, F1-Score) and time efficiency."
   ]
  },
  {
   "cell_type": "markdown",
   "id": "2b1fb0e66b1fec84",
   "metadata": {},
   "source": [
    "## 2. Setup and Library Imports\n",
    "\n",
    "First, we import the necessary libraries for data manipulation, machine learning, and visualization. We also set random seeds for TensorFlow and NumPy to ensure our results are reproducible."
   ]
  },
  {
   "cell_type": "code",
   "execution_count": 128,
   "id": "11534e79bc712e29",
   "metadata": {
    "ExecuteTime": {
     "end_time": "2025-07-29T15:00:38.563360Z",
     "start_time": "2025-07-29T15:00:38.554869Z"
    }
   },
   "outputs": [],
   "source": [
    "import time\n",
    "import os\n",
    "import pandas as pd\n",
    "import numpy as np\n",
    "import matplotlib.pyplot as plt\n",
    "import seaborn as sns\n",
    "import tensorflow as tf\n",
    "import joblib\n",
    "\n",
    "# Scikit-learn modules\n",
    "from sklearn.model_selection import train_test_split\n",
    "from sklearn.preprocessing import LabelEncoder, StandardScaler\n",
    "from sklearn.ensemble import RandomForestClassifier\n",
    "from sklearn.utils.class_weight import compute_class_weight, compute_sample_weight\n",
    "from sklearn.metrics import classification_report, accuracy_score, f1_score, confusion_matrix\n",
    "\n",
    "# TensorFlow and Keras modules\n",
    "from keras.models import Sequential\n",
    "from keras.layers import Dense, Dropout, BatchNormalization, GRU, Input\n",
    "from keras.optimizers import Adam\n",
    "from keras.callbacks import EarlyStopping, ReduceLROnPlateau\n",
    "from keras.utils import to_categorical\n",
    "from keras.regularizers import l2\n",
    "\n",
    "# Other libraries\n",
    "from xgboost import XGBClassifier\n",
    "from imblearn.combine import SMOTETomek\n",
    "\n",
    "# Set random seeds for reproducibility\n",
    "np.random.seed(42)\n",
    "tf.random.set_seed(42)\n",
    "\n",
    "# Suppress TensorFlow hardware optimization warnings\n",
    "os.environ['TF_CPP_MIN_LOG_LEVEL'] = '2'"
   ]
  },
  {
   "cell_type": "code",
   "execution_count": 129,
   "id": "4bdb3fcde91b614a",
   "metadata": {
    "ExecuteTime": {
     "end_time": "2025-07-29T15:00:38.589102Z",
     "start_time": "2025-07-29T15:00:38.579269Z"
    }
   },
   "outputs": [],
   "source": [
    "# Create directories to store results and models if they don't already exist\n",
    "os.makedirs('./models', exist_ok=True)\n",
    "os.makedirs('./results/figures', exist_ok=True)"
   ]
  },
  {
   "cell_type": "markdown",
   "id": "a8a4e5dea64dffb2",
   "metadata": {},
   "source": [
    "## 3. Data Loading and Preprocessing\n",
    "\n",
    "We load the NSL-KDD training and testing datasets. The datasets do not contain headers, so we assign column names based on the official documentation."
   ]
  },
  {
   "cell_type": "code",
   "execution_count": 130,
   "id": "21f034d6e70a230",
   "metadata": {
    "ExecuteTime": {
     "end_time": "2025-07-29T15:00:39.342157Z",
     "start_time": "2025-07-29T15:00:38.644613Z"
    }
   },
   "outputs": [
    {
     "name": "stdout",
     "output_type": "stream",
     "text": [
      "Training data shape: (125973, 43)\n",
      "Testing data shape: (22544, 43)\n"
     ]
    },
    {
     "data": {
      "text/html": [
       "<div>\n",
       "<style scoped>\n",
       "    .dataframe tbody tr th:only-of-type {\n",
       "        vertical-align: middle;\n",
       "    }\n",
       "\n",
       "    .dataframe tbody tr th {\n",
       "        vertical-align: top;\n",
       "    }\n",
       "\n",
       "    .dataframe thead th {\n",
       "        text-align: right;\n",
       "    }\n",
       "</style>\n",
       "<table border=\"1\" class=\"dataframe\">\n",
       "  <thead>\n",
       "    <tr style=\"text-align: right;\">\n",
       "      <th></th>\n",
       "      <th>duration</th>\n",
       "      <th>protocol_type</th>\n",
       "      <th>service</th>\n",
       "      <th>flag</th>\n",
       "      <th>src_bytes</th>\n",
       "      <th>dst_bytes</th>\n",
       "      <th>land</th>\n",
       "      <th>wrong_fragment</th>\n",
       "      <th>urgent</th>\n",
       "      <th>hot</th>\n",
       "      <th>...</th>\n",
       "      <th>dst_host_same_srv_rate</th>\n",
       "      <th>dst_host_diff_srv_rate</th>\n",
       "      <th>dst_host_same_src_port_rate</th>\n",
       "      <th>dst_host_srv_diff_host_rate</th>\n",
       "      <th>dst_host_serror_rate</th>\n",
       "      <th>dst_host_srv_serror_rate</th>\n",
       "      <th>dst_host_rerror_rate</th>\n",
       "      <th>dst_host_srv_rerror_rate</th>\n",
       "      <th>attack_type</th>\n",
       "      <th>difficulty_level</th>\n",
       "    </tr>\n",
       "  </thead>\n",
       "  <tbody>\n",
       "    <tr>\n",
       "      <th>0</th>\n",
       "      <td>0</td>\n",
       "      <td>tcp</td>\n",
       "      <td>ftp_data</td>\n",
       "      <td>SF</td>\n",
       "      <td>491</td>\n",
       "      <td>0</td>\n",
       "      <td>0</td>\n",
       "      <td>0</td>\n",
       "      <td>0</td>\n",
       "      <td>0</td>\n",
       "      <td>...</td>\n",
       "      <td>0.17</td>\n",
       "      <td>0.03</td>\n",
       "      <td>0.17</td>\n",
       "      <td>0.00</td>\n",
       "      <td>0.00</td>\n",
       "      <td>0.00</td>\n",
       "      <td>0.05</td>\n",
       "      <td>0.00</td>\n",
       "      <td>normal</td>\n",
       "      <td>20</td>\n",
       "    </tr>\n",
       "    <tr>\n",
       "      <th>1</th>\n",
       "      <td>0</td>\n",
       "      <td>udp</td>\n",
       "      <td>other</td>\n",
       "      <td>SF</td>\n",
       "      <td>146</td>\n",
       "      <td>0</td>\n",
       "      <td>0</td>\n",
       "      <td>0</td>\n",
       "      <td>0</td>\n",
       "      <td>0</td>\n",
       "      <td>...</td>\n",
       "      <td>0.00</td>\n",
       "      <td>0.60</td>\n",
       "      <td>0.88</td>\n",
       "      <td>0.00</td>\n",
       "      <td>0.00</td>\n",
       "      <td>0.00</td>\n",
       "      <td>0.00</td>\n",
       "      <td>0.00</td>\n",
       "      <td>normal</td>\n",
       "      <td>15</td>\n",
       "    </tr>\n",
       "    <tr>\n",
       "      <th>2</th>\n",
       "      <td>0</td>\n",
       "      <td>tcp</td>\n",
       "      <td>private</td>\n",
       "      <td>S0</td>\n",
       "      <td>0</td>\n",
       "      <td>0</td>\n",
       "      <td>0</td>\n",
       "      <td>0</td>\n",
       "      <td>0</td>\n",
       "      <td>0</td>\n",
       "      <td>...</td>\n",
       "      <td>0.10</td>\n",
       "      <td>0.05</td>\n",
       "      <td>0.00</td>\n",
       "      <td>0.00</td>\n",
       "      <td>1.00</td>\n",
       "      <td>1.00</td>\n",
       "      <td>0.00</td>\n",
       "      <td>0.00</td>\n",
       "      <td>neptune</td>\n",
       "      <td>19</td>\n",
       "    </tr>\n",
       "    <tr>\n",
       "      <th>3</th>\n",
       "      <td>0</td>\n",
       "      <td>tcp</td>\n",
       "      <td>http</td>\n",
       "      <td>SF</td>\n",
       "      <td>232</td>\n",
       "      <td>8153</td>\n",
       "      <td>0</td>\n",
       "      <td>0</td>\n",
       "      <td>0</td>\n",
       "      <td>0</td>\n",
       "      <td>...</td>\n",
       "      <td>1.00</td>\n",
       "      <td>0.00</td>\n",
       "      <td>0.03</td>\n",
       "      <td>0.04</td>\n",
       "      <td>0.03</td>\n",
       "      <td>0.01</td>\n",
       "      <td>0.00</td>\n",
       "      <td>0.01</td>\n",
       "      <td>normal</td>\n",
       "      <td>21</td>\n",
       "    </tr>\n",
       "    <tr>\n",
       "      <th>4</th>\n",
       "      <td>0</td>\n",
       "      <td>tcp</td>\n",
       "      <td>http</td>\n",
       "      <td>SF</td>\n",
       "      <td>199</td>\n",
       "      <td>420</td>\n",
       "      <td>0</td>\n",
       "      <td>0</td>\n",
       "      <td>0</td>\n",
       "      <td>0</td>\n",
       "      <td>...</td>\n",
       "      <td>1.00</td>\n",
       "      <td>0.00</td>\n",
       "      <td>0.00</td>\n",
       "      <td>0.00</td>\n",
       "      <td>0.00</td>\n",
       "      <td>0.00</td>\n",
       "      <td>0.00</td>\n",
       "      <td>0.00</td>\n",
       "      <td>normal</td>\n",
       "      <td>21</td>\n",
       "    </tr>\n",
       "  </tbody>\n",
       "</table>\n",
       "<p>5 rows × 43 columns</p>\n",
       "</div>"
      ],
      "text/plain": [
       "   duration protocol_type   service flag  src_bytes  dst_bytes  land  \\\n",
       "0         0           tcp  ftp_data   SF        491          0     0   \n",
       "1         0           udp     other   SF        146          0     0   \n",
       "2         0           tcp   private   S0          0          0     0   \n",
       "3         0           tcp      http   SF        232       8153     0   \n",
       "4         0           tcp      http   SF        199        420     0   \n",
       "\n",
       "   wrong_fragment  urgent  hot  ...  dst_host_same_srv_rate  \\\n",
       "0               0       0    0  ...                    0.17   \n",
       "1               0       0    0  ...                    0.00   \n",
       "2               0       0    0  ...                    0.10   \n",
       "3               0       0    0  ...                    1.00   \n",
       "4               0       0    0  ...                    1.00   \n",
       "\n",
       "   dst_host_diff_srv_rate  dst_host_same_src_port_rate  \\\n",
       "0                    0.03                         0.17   \n",
       "1                    0.60                         0.88   \n",
       "2                    0.05                         0.00   \n",
       "3                    0.00                         0.03   \n",
       "4                    0.00                         0.00   \n",
       "\n",
       "   dst_host_srv_diff_host_rate  dst_host_serror_rate  \\\n",
       "0                         0.00                  0.00   \n",
       "1                         0.00                  0.00   \n",
       "2                         0.00                  1.00   \n",
       "3                         0.04                  0.03   \n",
       "4                         0.00                  0.00   \n",
       "\n",
       "   dst_host_srv_serror_rate  dst_host_rerror_rate  dst_host_srv_rerror_rate  \\\n",
       "0                      0.00                  0.05                      0.00   \n",
       "1                      0.00                  0.00                      0.00   \n",
       "2                      1.00                  0.00                      0.00   \n",
       "3                      0.01                  0.00                      0.01   \n",
       "4                      0.00                  0.00                      0.00   \n",
       "\n",
       "   attack_type  difficulty_level  \n",
       "0       normal                20  \n",
       "1       normal                15  \n",
       "2      neptune                19  \n",
       "3       normal                21  \n",
       "4       normal                21  \n",
       "\n",
       "[5 rows x 43 columns]"
      ]
     },
     "execution_count": 130,
     "metadata": {},
     "output_type": "execute_result"
    }
   ],
   "source": [
    "# Define column names for the dataset\n",
    "txt_cols = [\n",
    "    'duration', 'protocol_type', 'service', 'flag', 'src_bytes', 'dst_bytes', 'land',\n",
    "    'wrong_fragment', 'urgent', 'hot', 'num_failed_logins', 'logged_in', 'num_compromised',\n",
    "    'root_shell', 'su_attempted', 'num_root', 'num_file_creations', 'num_shells',\n",
    "    'num_access_files', 'num_outbound_cmds', 'is_host_login', 'is_guest_login', 'count',\n",
    "    'srv_count', 'serror_rate', 'srv_serror_rate', 'rerror_rate', 'srv_rerror_rate',\n",
    "    'same_srv_rate', 'diff_srv_rate', 'srv_diff_host_rate', 'dst_host_count',\n",
    "    'dst_host_srv_count', 'dst_host_same_srv_rate', 'dst_host_diff_srv_rate',\n",
    "    'dst_host_same_src_port_rate', 'dst_host_srv_diff_host_rate', 'dst_host_serror_rate',\n",
    "    'dst_host_srv_serror_rate', 'dst_host_rerror_rate', 'dst_host_srv_rerror_rate',\n",
    "    'attack_type', 'difficulty_level'\n",
    "]\n",
    "\n",
    "# Load the training and testing data from the NSL_KDD directory\n",
    "train_df = pd.read_csv('./NSL_KDD/KDDTrain+.txt', names=txt_cols)\n",
    "test_df = pd.read_csv('./NSL_KDD/KDDTest+.txt', names=txt_cols)\n",
    "\n",
    "print(\"Training data shape:\", train_df.shape)\n",
    "print(\"Testing data shape:\", test_df.shape)\n",
    "\n",
    "# Display the first few rows of the data\n",
    "train_df.head()"
   ]
  },
  {
   "cell_type": "markdown",
   "id": "716ab2aa0ef4106d",
   "metadata": {},
   "source": [
    "### 3.1. Data Cleaning and Attack Categorization\n",
    "\n",
    "The `difficulty_level` column is not needed for our classification task, so we drop it.\n",
    "\n",
    "The `attack_type` column contains many specific attack names. To create a more robust model, we group these into five main categories:\n",
    "- **DoS (Denial of Service)**\n",
    "- **Probe (Probing/Scanning)**\n",
    "- **R2L (Root to Local)**\n",
    "- **U2R (User to Root)**\n",
    "- **Normal**"
   ]
  },
  {
   "cell_type": "code",
   "execution_count": 131,
   "id": "8bcc0a673ac4d90b",
   "metadata": {
    "ExecuteTime": {
     "end_time": "2025-07-29T15:00:39.786263Z",
     "start_time": "2025-07-29T15:00:39.438664Z"
    }
   },
   "outputs": [
    {
     "data": {
      "image/png": "[encoded data removed]",
      "text/plain": [
       "<Figure size 1000x600 with 1 Axes>"
      ]
     },
     "metadata": {},
     "output_type": "display_data"
    }
   ],
   "source": [
    "# Drop the 'difficulty_level' column from both dataframes\n",
    "train_df.drop('difficulty_level', axis=1, inplace=True)\n",
    "test_df.drop('difficulty_level', axis=1, inplace=True)\n",
    "\n",
    "# Define the attack categories\n",
    "dos = ['back', 'land', 'neptune', 'smurf', 'teardrop', 'pod', 'apache2', 'udpstorm', 'mailbomb']\n",
    "probe = ['ipsweep', 'nmap', 'portsweep', 'satan', 'mscan', 'saint']\n",
    "r2l = ['ftp_write', 'guess_passwd', 'imap', 'multihop', 'phf', 'spy', 'snmpgetattack', 'snmpguess',\n",
    "       'warezclient', 'warezmaster', 'xlock', 'xsnoop']\n",
    "u2r = ['buffer_overflow', 'loadmodule', 'perl', 'rootkit', 'sqlattack', 'httptunnel']\n",
    "\n",
    "# Function to map specific attacks to their general category\n",
    "def map_category(atk):\n",
    "    if atk == 'normal':\n",
    "        return 'normal'\n",
    "    if atk in dos:\n",
    "        return 'dos'\n",
    "    if atk in probe:\n",
    "        return 'probe'\n",
    "    if atk in r2l:\n",
    "        return 'r2l'\n",
    "    if atk in u2r:\n",
    "        return 'u2r'\n",
    "    return 'dos' # Fallback for any unknown attack types\n",
    "\n",
    "# Apply the mapping\n",
    "for df in [train_df, test_df]:\n",
    "    df['category'] = df['attack_type'].apply(map_category)\n",
    "\n",
    "# Visualize the distribution of attack categories in the training data\n",
    "plt.figure(figsize=(10, 6))\n",
    "sns.countplot(x='category', data=train_df, order=train_df['category'].value_counts().index)\n",
    "plt.title('Distribution of Attack Categories')\n",
    "plt.xlabel('Category')\n",
    "plt.ylabel('Count')\n",
    "plt.show()"
   ]
  },
  {
   "cell_type": "markdown",
   "id": "ffddd30b613d55b9",
   "metadata": {},
   "source": [
    "### 3.2. Label and Feature Encoding\n",
    "\n",
    "Machine learning models require numerical input. We perform two encoding steps:\n",
    "1.  **Label Encoding:** Convert the text-based `category` column into integer labels.\n",
    "2.  **One-Hot Encoding:** Convert the categorical features (`protocol_type`, `service`, `flag`) into a numerical format. This prevents the model from assuming an ordinal relationship between categories."
   ]
  },
  {
   "cell_type": "code",
   "execution_count": 132,
   "id": "62aeb5ee13fbfde",
   "metadata": {
    "ExecuteTime": {
     "end_time": "2025-07-29T15:00:40.090367Z",
     "start_time": "2025-07-29T15:00:39.841764Z"
    }
   },
   "outputs": [],
   "source": [
    "# Encode the target labels\n",
    "le = LabelEncoder()\n",
    "le.fit(pd.concat([train_df['category'], test_df['category']]))\n",
    "train_df['target'] = le.transform(train_df['category'])\n",
    "test_df['target'] = le.transform(test_df['category'])\n",
    "\n",
    "# Drop the original text columns\n",
    "train_df.drop(['attack_type', 'category'], axis=1, inplace=True)\n",
    "test_df.drop(['attack_type', 'category'], axis=1, inplace=True)\n",
    "\n",
    "# One-hot encode categorical features\n",
    "cat_cols = ['protocol_type', 'service', 'flag']\n",
    "full_df = pd.concat([\n",
    "    train_df.drop('target', axis=1),\n",
    "    test_df.drop('target', axis=1)\n",
    "], axis=0)\n",
    "full_df_encoded = pd.get_dummies(full_df, columns=cat_cols)"
   ]
  },
  {
   "cell_type": "markdown",
   "id": "62498098e5add822",
   "metadata": {},
   "source": [
    "### 3.3. Feature Engineering\n",
    "\n",
    "To potentially improve model performance, we create a few new features based on domain knowledge. These engineered features can capture relationships that are not immediately apparent from the raw data."
   ]
  },
  {
   "cell_type": "code",
   "execution_count": 133,
   "id": "19f9a0329360bdaf",
   "metadata": {
    "ExecuteTime": {
     "end_time": "2025-07-29T15:00:40.119730Z",
     "start_time": "2025-07-29T15:00:40.104730Z"
    }
   },
   "outputs": [
    {
     "name": "stdout",
     "output_type": "stream",
     "text": [
      "Shape of the final feature matrix: (148517, 125)\n"
     ]
    }
   ],
   "source": [
    "# Create new features from existing ones\n",
    "full_df_encoded['bytes_ratio'] = np.where(full_df_encoded['dst_bytes'] != 0, full_df_encoded['src_bytes'] / full_df_encoded['dst_bytes'], 0)\n",
    "full_df_encoded['srv_diff_ratio'] = np.where(full_df_encoded['diff_srv_rate'] != 0, full_df_encoded['same_srv_rate'] / full_df_encoded['diff_srv_rate'], 0)\n",
    "full_df_encoded['error_rate_sum'] = full_df_encoded['serror_rate'] + full_df_encoded['rerror_rate']\n",
    "\n",
    "print(\"Shape of the final feature matrix:\", full_df_encoded.shape)"
   ]
  },
  {
   "cell_type": "markdown",
   "id": "fd234634491c083f",
   "metadata": {},
   "source": [
    "## 4. Data Splitting, Resampling, and Scaling\n",
    "\n",
    "Now we prepare the data for the model training phase."
   ]
  },
  {
   "cell_type": "code",
   "execution_count": 134,
   "id": "197c4fd5c6772206",
   "metadata": {
    "ExecuteTime": {
     "end_time": "2025-07-29T15:00:41.055283Z",
     "start_time": "2025-07-29T15:00:40.172334Z"
    }
   },
   "outputs": [],
   "source": [
    "# Convert dataframes to NumPy arrays\n",
    "X = full_df_encoded.values\n",
    "y = np.concatenate([train_df['target'], test_df['target']])\n",
    "\n",
    "# Split the data back into training and testing sets\n",
    "X_train_all = X[:len(train_df)]\n",
    "X_test = X[len(train_df):]\n",
    "y_train_all = train_df['target'].values\n",
    "y_test = test_df['target'].values\n",
    "\n",
    "# Create a validation set from the training data\n",
    "X_train, X_val, y_train, y_val = train_test_split(\n",
    "    X_train_all, y_train_all,\n",
    "    test_size=0.2,\n",
    "    random_state=42,\n",
    "    stratify=y_train_all\n",
    ")"
   ]
  },
  {
   "cell_type": "markdown",
   "id": "c59bdff45caa6db6",
   "metadata": {},
   "source": [
    "### 4.1. Handling Class Imbalance with SMOTETomek\n",
    "\n",
    "As seen in the earlier plot, the dataset is highly imbalanced. The `R2L` and `U2R` attack types are very rare. To prevent our models from being biased towards the majority classes, we use **SMOTETomek**. This technique combines:\n",
    "- **SMOTE (Synthetic Minority Over-sampling Technique):** Creates new synthetic samples for the minority classes.\n",
    "- **Tomek Links:** Removes pairs of samples from different classes that are close to each other, cleaning up the class boundaries.\n",
    "\n",
    "This is applied **only to the training data** to avoid data leakage into the validation and test sets."
   ]
  },
  {
   "cell_type": "code",
   "execution_count": 135,
   "id": "d31d86ee06864d81",
   "metadata": {
    "ExecuteTime": {
     "end_time": "2025-07-29T15:03:03.677864Z",
     "start_time": "2025-07-29T15:00:41.093995Z"
    }
   },
   "outputs": [
    {
     "name": "stdout",
     "output_type": "stream",
     "text": [
      "=== Applying SMOTETomek ===\n",
      "Original training data shape: (100778, 125)\n",
      "Resampled training data shape: (269204, 125)\n"
     ]
    }
   ],
   "source": [
    "print(\"=== Applying SMOTETomek ===\")\n",
    "smotetomek = SMOTETomek(random_state=42)\n",
    "X_train_resampled, y_train_resampled = smotetomek.fit_resample(X_train, y_train)\n",
    "\n",
    "print(\"Original training data shape:\", X_train.shape)\n",
    "print(\"Resampled training data shape:\", X_train_resampled.shape)"
   ]
  },
  {
   "cell_type": "markdown",
   "id": "892649dec4ce5573",
   "metadata": {},
   "source": [
    "### 4.2. Feature Scaling\n",
    "\n",
    "We scale the features using `StandardScaler`, which standardizes them by removing the mean and scaling to unit variance. This is crucial for distance-based algorithms and neural networks to ensure all features contribute equally to the model's learning process."
   ]
  },
  {
   "cell_type": "code",
   "execution_count": 136,
   "id": "deff416ea6180f24",
   "metadata": {
    "ExecuteTime": {
     "end_time": "2025-07-29T15:03:05.231659Z",
     "start_time": "2025-07-29T15:03:03.738995Z"
    }
   },
   "outputs": [],
   "source": [
    "scaler = StandardScaler()\n",
    "\n",
    "# Fit on the original training data and transform all sets\n",
    "X_train_scaled = scaler.fit_transform(X_train)\n",
    "X_val_scaled = scaler.transform(X_val)\n",
    "X_test_scaled = scaler.transform(X_test)\n",
    "\n",
    "# One-hot encode the target labels\n",
    "y_train_onehot = to_categorical(y_train, num_classes=len(le.classes_))\n",
    "y_val_onehot = to_categorical(y_val, num_classes=len(le.classes_))\n",
    "y_test_onehot = to_categorical(y_test, num_classes=len(le.classes_))"
   ]
  },
  {
   "cell_type": "markdown",
   "id": "e4916e0632ccefbf",
   "metadata": {},
   "source": [
    "## 5. Model Training and Evaluation\n",
    "\n",
    "We will now train and evaluate our three models. For each model, we use `RandomizedSearchCV` to efficiently find good hyperparameters. The best model is selected based on the `f1_macro` score, which is a good metric for imbalanced datasets."
   ]
  },
  {
   "cell_type": "code",
   "execution_count": 137,
   "id": "d0a6df35076a016c",
   "metadata": {
    "ExecuteTime": {
     "end_time": "2025-07-29T15:03:05.242048Z",
     "start_time": "2025-07-29T15:03:05.236366Z"
    }
   },
   "outputs": [],
   "source": [
    "# Helper function to print a detailed classification report and save the confusion matrix\n",
    "def detailed_report(y_true, y_pred, le, name):\n",
    "    # Generate classification report\n",
    "    labels = np.unique(np.concatenate([y_true, y_pred]))\n",
    "    names = le.inverse_transform(labels)\n",
    "    print(f\"--- {name} Classification Report ---\")\n",
    "    print(classification_report(y_true, y_pred, labels=labels, target_names=names))\n",
    "\n",
    "    # Generate and save confusion matrix\n",
    "    cm = confusion_matrix(y_true, y_pred, labels=labels)\n",
    "    plt.figure(figsize=(8, 6))\n",
    "    sns.heatmap(cm, cmap='Blues', fmt='d', cbar=False, annot=True,\n",
    "                xticklabels=names, yticklabels=names)\n",
    "    plt.title(f\"{name} Confusion Matrix\")\n",
    "    plt.xlabel('Predicted')\n",
    "    plt.ylabel('Actual')\n",
    "    plt.tight_layout()\n",
    "\n",
    "    # Save the figure\n",
    "    figure_path = f'results/figures/{name.replace(\" \", \"_\")}_confusion_matrix.png'\n",
    "    plt.savefig(figure_path, bbox_inches='tight')\n",
    "    print(f\"Confusion matrix saved to {figure_path}\")\n",
    "    plt.show()\n",
    "\n",
    "# Store results for final comparison\n",
    "results = []"
   ]
  },
  {
   "cell_type": "markdown",
   "id": "d1ac762ddb63d239",
   "metadata": {},
   "source": [
    "### 5.1. Random Forest"
   ]
  },
  {
   "cell_type": "code",
   "execution_count": 138,
   "id": "5a17ae9d8eb27ea7",
   "metadata": {
    "ExecuteTime": {
     "end_time": "2025-07-29T15:09:49.372803Z",
     "start_time": "2025-07-29T15:03:05.277306Z"
    }
   },
   "outputs": [
    {
     "name": "stdout",
     "output_type": "stream",
     "text": [
      "=== Random Forest ===\n",
      "Random Forest model trained directly with best parameters.\n",
      "Random Forest model saved to models/RF_model.joblib\n",
      "RF Acc: 0.7687, F1: 0.7420\n",
      "--- Random Forest Classification Report ---\n",
      "              precision    recall  f1-score   support\n",
      "\n",
      "         dos       0.96      0.77      0.85      7519\n",
      "      normal       0.67      0.97      0.79      9711\n",
      "       probe       0.88      0.69      0.77      2421\n",
      "         r2l       0.98      0.15      0.26      2721\n",
      "         u2r       0.30      0.09      0.14       172\n",
      "\n",
      "    accuracy                           0.77     22544\n",
      "   macro avg       0.76      0.54      0.56     22544\n",
      "weighted avg       0.82      0.77      0.74     22544\n",
      "\n",
      "Confusion matrix saved to results/figures/Random_Forest_confusion_matrix.png\n"
     ]
    },
    {
     "data": {
      "image/png": "[encoded data removed]",
      "text/plain": [
       "<Figure size 800x600 with 1 Axes>"
      ]
     },
     "metadata": {},
     "output_type": "display_data"
    }
   ],
   "source": [
    "print('=== Random Forest ===')\n",
    "\n",
    "# Instantiate the Random Forest model with the best parameters\n",
    "best_rf = RandomForestClassifier(\n",
    "    n_estimators=500,\n",
    "    max_depth=12,\n",
    "    min_samples_split=2,\n",
    "    min_samples_leaf=1,\n",
    "    max_features='sqrt',\n",
    "    class_weight='balanced',\n",
    "    random_state=42,\n",
    "    n_jobs=-1,\n",
    "    oob_score=True\n",
    ")\n",
    "\n",
    "# Train the model\n",
    "start = time.time()\n",
    "best_rf.fit(X_train_resampled, y_train_resampled)\n",
    "train_rf_time = time.time() - start\n",
    "\n",
    "print(\"Random Forest model trained directly with best parameters.\")\n",
    "\n",
    "# Save the trained model\n",
    "joblib.dump(best_rf, 'models/RF_model.joblib')\n",
    "print(\"Random Forest model saved to models/RF_model.joblib\")\n",
    "\n",
    "# Evaluate the model\n",
    "start = time.time()\n",
    "rf_pred = best_rf.predict(X_test)\n",
    "pred_rf_time = time.time() - start\n",
    "\n",
    "acc_rf = accuracy_score(y_test, rf_pred)\n",
    "f1_rf = f1_score(y_test, rf_pred, average='weighted')\n",
    "print(f\"RF Acc: {acc_rf:.4f}, F1: {f1_rf:.4f}\")\n",
    "detailed_report(y_test, rf_pred, le, 'Random Forest')\n",
    "results.append(('Random Forest', acc_rf, f1_rf, train_rf_time, pred_rf_time))"
   ]
  },
  {
   "cell_type": "markdown",
   "id": "65616ac6ef47ccdc",
   "metadata": {},
   "source": [
    "### 5.2. XGBoost"
   ]
  },
  {
   "cell_type": "code",
   "execution_count": null,
   "id": "c1669d2680c46a48",
   "metadata": {
    "ExecuteTime": {
     "end_time": "2025-07-29T15:13:20.717714Z",
     "start_time": "2025-07-29T15:09:49.485843Z"
    }
   },
   "outputs": [
    {
     "name": "stdout",
     "output_type": "stream",
     "text": [
      "=== XGBoost ===\n",
      "XGBoost model trained directly with best parameters.\n",
      "XGBoost model saved to models/xgboost_model.joblib\n",
      "XGB Acc: 0.7983, F1: 0.7767\n",
      "--- XGBoost Classification Report ---\n",
      "              precision    recall  f1-score   support\n",
      "\n",
      "         dos       0.96      0.81      0.88      7519\n",
      "      normal       0.71      0.97      0.82      9711\n",
      "       probe       0.83      0.75      0.79      2421\n",
      "         r2l       0.98      0.23      0.37      2721\n",
      "         u2r       0.42      0.08      0.13       172\n",
      "\n",
      "    accuracy                           0.80     22544\n",
      "   macro avg       0.78      0.57      0.60     22544\n",
      "weighted avg       0.84      0.80      0.78     22544\n",
      "\n",
      "Confusion matrix saved to results/figures/XGBoost_confusion_matrix.png\n"
     ]
    },
    {
     "data": {
      "image/png": "[encoded data removed]",
      "text/plain": [
       "<Figure size 800x600 with 1 Axes>"
      ]
     },
     "metadata": {},
     "output_type": "display_data"
    }
   ],
   "source": [
    "print('=== XGBoost ===')\n",
    "\n",
    "# Calculate sample weights to emphasize minority classes\n",
    "sample_weights = compute_sample_weight(\n",
    "    class_weight='balanced',\n",
    "    y=y_train_resampled\n",
    ")\n",
    "\n",
    "# Instantiate the XGBoost model with the best parameters\n",
    "best_xgb = XGBClassifier(\n",
    "    objective='multi:softmax',\n",
    "    num_class=len(le.classes_),\n",
    "    eval_metric='mlogloss',\n",
    "    tree_method='hist',\n",
    "    random_state=42,\n",
    "    n_estimators=1000,             \n",
    "    max_depth=8,                   \n",
    "    learning_rate=0.05,            \n",
    "    min_child_weight=3,            \n",
    "    gamma=0.2,                     \n",
    "    subsample=0.8,                 \n",
    "    colsample_bytree=0.8,          \n",
    "    early_stopping_rounds=50       \n",
    ")\n",
    "\n",
    "# Train the model\n",
    "start = time.time()\n",
    "best_xgb.fit(\n",
    "    X_train_resampled, y_train_resampled,\n",
    "    sample_weight=sample_weights,\n",
    "    eval_set=[(X_val, y_val)],\n",
    "    verbose=False\n",
    ")\n",
    "train_xgb_time = time.time() - start\n",
    "\n",
    "print(\"XGBoost model trained directly with best parameters.\")\n",
    "\n",
    "# Save the trained model\n",
    "joblib.dump(best_xgb, 'models/xgboost_model.joblib')\n",
    "print(\"XGBoost model saved to models/xgboost_model.joblib\")\n",
    "\n",
    "# Evaluate the model\n",
    "start = time.time()\n",
    "xgb_pred = best_xgb.predict(X_test)\n",
    "pred_xgb_time = time.time() - start\n",
    "\n",
    "acc_xgb = accuracy_score(y_test, xgb_pred)\n",
    "f1_xgb = f1_score(y_test, xgb_pred, average='weighted')\n",
    "print(f\"XGB Acc: {acc_xgb:.4f}, F1: {f1_xgb:.4f}\")\n",
    "detailed_report(y_test, xgb_pred, le, 'XGBoost')\n",
    "results.append(('XGBoost', acc_xgb, f1_xgb, train_xgb_time, pred_xgb_time))"
   ]
  },
  {
   "cell_type": "markdown",
   "id": "8e669377500393f7",
   "metadata": {},
   "source": [
    "### 5.3. Deep Neural Network"
   ]
  },
  {
   "cell_type": "code",
   "execution_count": null,
   "id": "bbd25dac57b80cd1",
   "metadata": {
    "ExecuteTime": {
     "end_time": "2025-07-29T15:21:31.255998Z",
     "start_time": "2025-07-29T15:13:20.891364Z"
    }
   },
   "outputs": [
    {
     "name": "stdout",
     "output_type": "stream",
     "text": [
      "=== Neural Network ===\n"
     ]
    }
   ],
   "source": [
    "print('=== Neural Network ===')\n",
    "\n",
    "def build_nn(units, dropout_rate, learning_rate, l2_reg=0.001):\n",
    "    model = Sequential([\n",
    "        Input(shape=(X_train_scaled.shape[1],)),\n",
    "        Dense(units // 2, activation='relu', kernel_regularizer=l2(l2_reg)),\n",
    "        BatchNormalization(),\n",
    "        Dropout(dropout_rate),\n",
    "        Dense(units, activation='relu', kernel_regularizer=l2(l2_reg)),\n",
    "        BatchNormalization(),\n",
    "        Dropout(dropout_rate),\n",
    "        Dense(units // 4, activation='relu', kernel_regularizer=l2(l2_reg)),\n",
    "        BatchNormalization(),\n",
    "        Dropout(dropout_rate),\n",
    "        Dense(len(le.classes_), activation='softmax')\n",
    "    ])\n",
    "    model.compile(\n",
    "        optimizer=Adam(learning_rate=learning_rate),\n",
    "        loss='categorical_crossentropy',\n",
    "        metrics=['accuracy']\n",
    "    )\n",
    "    return model\n",
    "\n",
    "# Build the model with the best parameters\n",
    "best_nn = build_nn(\n",
    "    units=512,\n",
    "    dropout_rate=0.4,\n",
    "    learning_rate=0.001,\n",
    "    l2_reg=0.001\n",
    ")\n",
    "\n",
    "# Define callbacks\n",
    "early_stopping = EarlyStopping(monitor='val_loss', patience=7, restore_best_weights=True)\n",
    "reduce_lr = ReduceLROnPlateau(monitor='val_loss', factor=0.2, patience=3, min_lr=1e-6)\n",
    "\n",
    "# Compute class weights\n",
    "class_weights = compute_class_weight(\n",
    "    class_weight='balanced',\n",
    "    classes=np.unique(y_train),\n",
    "    y=y_train\n",
    ")\n",
    "class_weights_dict = {i: weight for i, weight in enumerate(class_weights)}\n",
    "\n",
    "# Train the model\n",
    "start = time.time()\n",
    "history = best_nn.fit(\n",
    "    X_train_scaled, y_train_onehot,\n",
    "    validation_data=(X_val_scaled, y_val_onehot),\n",
    "    class_weight=class_weights_dict,\n",
    "    callbacks=[early_stopping, reduce_lr],\n",
    "    batch_size=256,\n",
    "    epochs=50,\n",
    "    verbose=0\n",
    ")\n",
    "train_nn_time = time.time() - start\n",
    "print(\"Neural Network model trained directly with best parameters.\")\n",
    "\n",
    "# Save the trained model\n",
    "best_nn.save('models/NN_model.keras')\n",
    "print(\"Neural Network model saved to models/NN_model.keras\")\n",
    "\n",
    "# Predictions and evaluation\n",
    "start = time.time()\n",
    "nn_pred = best_nn.predict(X_test_scaled)\n",
    "nn_pred_classes = np.argmax(nn_pred, axis=1)\n",
    "pred_nn_time = time.time() - start\n",
    "\n",
    "acc_nn = accuracy_score(y_test, nn_pred_classes)\n",
    "f1_nn = f1_score(y_test, nn_pred_classes, average='macro')\n",
    "print(f\"NN Acc: {acc_nn:.4f}, F1: {f1_nn:.4f}\")\n",
    "detailed_report(y_test, nn_pred_classes, le, 'Neural Network')\n",
    "results.append(('Neural Network', acc_nn, f1_nn, train_nn_time, pred_nn_time))"
   ]
  },
  {
   "cell_type": "markdown",
   "id": "eb960c861020ab00",
   "metadata": {},
   "source": [
    "### 5.4. GRU Neural Network"
   ]
  },
  {
   "cell_type": "code",
   "execution_count": null,
   "id": "736cf70449dfc5e4",
   "metadata": {},
   "outputs": [],
   "source": [
    "print('=== GRU Neural Network ===')\n",
    "\n",
    "# Reshape data for GRU input\n",
    "X_train_reshaped = X_train_scaled.reshape((X_train_scaled.shape[0], 1, X_train_scaled.shape[1]))\n",
    "X_val_reshaped = X_val_scaled.reshape((X_val_scaled.shape[0], 1, X_val_scaled.shape[1]))\n",
    "X_test_reshaped = X_test_scaled.reshape((X_test_scaled.shape[0], 1, X_test_scaled.shape[1]))\n",
    "\n",
    "def build_gru(units, dropout_rate, learning_rate, l2_reg=0.001):\n",
    "    model = Sequential([\n",
    "        Input(shape=(X_train_reshaped.shape[1], X_train_reshaped.shape[2])),\n",
    "        GRU(units, activation='tanh', return_sequences=True, kernel_regularizer=l2(l2_reg)),\n",
    "        GRU(units // 2, activation='tanh', kernel_regularizer=l2(l2_reg)),\n",
    "        BatchNormalization(),\n",
    "        Dropout(dropout_rate),\n",
    "        Dense(len(le.classes_), activation='softmax')\n",
    "    ])\n",
    "    model.compile(\n",
    "        optimizer=Adam(learning_rate=learning_rate),\n",
    "        loss='categorical_crossentropy',\n",
    "        metrics=['accuracy']\n",
    "    )\n",
    "    return model\n",
    "\n",
    "# Build the GRU model with the best parameters\n",
    "best_gru = build_gru(\n",
    "    units=512,\n",
    "    dropout_rate=0.4,\n",
    "    learning_rate=0.001,\n",
    "    l2_reg=0.001\n",
    ")\n",
    "\n",
    "# Define callbacks\n",
    "early_stopping = EarlyStopping(monitor='val_loss', patience=7, restore_best_weights=True)\n",
    "reduce_lr = ReduceLROnPlateau(monitor='val_loss', factor=0.2, patience=3, min_lr=1e-6)\n",
    "\n",
    "# Train the GRU model\n",
    "start = time.time()\n",
    "history_gru = best_gru.fit(\n",
    "    X_train_reshaped, y_train_onehot,\n",
    "    validation_data=(X_val_reshaped, y_val_onehot),\n",
    "    class_weight=class_weights_dict,\n",
    "    callbacks=[early_stopping, reduce_lr],\n",
    "    batch_size=256,\n",
    "    epochs=50,\n",
    "    verbose=0\n",
    ")\n",
    "train_gru_time = time.time() - start\n",
    "print(\"GRU model trained directly with best parameters.\")\n",
    "\n",
    "# Save the trained GRU model\n",
    "best_gru.save('models/GRU_model.keras')\n",
    "print(\"GRU Neural Network model saved to models/GRU_model.keras\")\n",
    "\n",
    "# Predictions and evaluation\n",
    "start = time.time()\n",
    "gru_pred = best_gru.predict(X_test_reshaped)\n",
    "gru_pred_classes = np.argmax(gru_pred, axis=1)\n",
    "pred_gru_time = time.time() - start\n",
    "\n",
    "acc_gru = accuracy_score(y_test, gru_pred_classes)\n",
    "f1_gru = f1_score(y_test, gru_pred_classes, average='weighted')\n",
    "print(f\"GRU Acc: {acc_gru:.4f}, F1: {f1_gru:.4f}\")\n",
    "detailed_report(y_test, gru_pred_classes, le, 'GRU Neural Network')\n",
    "results.append(('GRU Neural Network', acc_gru, f1_gru, train_gru_time, pred_gru_time))"
   ]
  },
  {
   "cell_type": "markdown",
   "id": "56a2f32d428f0ea4",
   "metadata": {},
   "source": [
    "## 6. Final Model Comparison\n",
    "\n",
    "Finally, we visualize the performance and efficiency of all three models to determine the best one for this task. We consider both the effectiveness (Accuracy, F1-Score) and the efficiency (Training/Prediction Time)."
   ]
  },
  {
   "cell_type": "code",
   "execution_count": null,
   "id": "71e8db191304c94d",
   "metadata": {
    "ExecuteTime": {
     "end_time": "2025-07-29T15:21:32.922600Z",
     "start_time": "2025-07-29T15:21:31.378045Z"
    }
   },
   "outputs": [],
   "source": [
    "df_res = pd.DataFrame(\n",
    "    results,\n",
    "    columns=['model', 'accuracy', 'f1_macro', 'train_time', 'pred_time']\n",
    ").sort_values(by='f1_macro', ascending=False)\n",
    "\n",
    "# Save the results DataFrame to a CSV file\n",
    "df_res.to_csv('results/model_performance_metrics.csv', index=False)\n",
    "print(\"Model performance metrics saved to results/model_performance_metrics.csv\")\n",
    "\n",
    "plt.style.use('seaborn-v0_8-talk')\n",
    "fig, (ax1, ax2) = plt.subplots(2, 1, figsize=(14, 14), sharex=True)\n",
    "\n",
    "# Plot 1: Performance Metrics\n",
    "x = np.arange(len(df_res))\n",
    "width = 0.35\n",
    "\n",
    "bars1 = ax1.bar(x - width/2, df_res['accuracy'], width, label='Accuracy',\n",
    "                color='#3498db', edgecolor='#2980b9', linewidth=1.5)\n",
    "bars2 = ax1.bar(x + width/2, df_res['f1_macro'], width, label='F1 Macro',\n",
    "                color='#2ecc71', edgecolor='#27ae60', linewidth=1.5)\n",
    "\n",
    "ax1.set_ylabel('Score', fontsize=14, fontweight='bold')\n",
    "ax1.set_title('Model Performance Comparison', fontsize=18, fontweight='bold')\n",
    "ax1.set_xticks(x)\n",
    "ax1.set_xticklabels(df_res['model'], fontsize=12)\n",
    "ax1.set_ylim(0, 1.05)\n",
    "ax1.legend(loc='lower right', fontsize=12)\n",
    "ax1.grid(axis='y', linestyle='--', alpha=0.7)\n",
    "\n",
    "for bar in bars1 + bars2:\n",
    "    height = bar.get_height()\n",
    "    ax1.text(bar.get_x() + bar.get_width()/2., height,\n",
    "             f'{height:.3f}', ha='center', va='bottom',\n",
    "             fontweight='bold', fontsize=11)\n",
    "\n",
    "# Plot 2: Time Efficiency\n",
    "ax2.bar(x - width/2, df_res['train_time'], width, label='Training Time (s)',\n",
    "        color='#e74c3c', edgecolor='#c0392b', linewidth=1.5)\n",
    "ax2.bar(x + width/2, df_res['pred_time'], width, label='Prediction Time (s)',\n",
    "        color='#f39c12', edgecolor='#d35400', linewidth=1.5)\n",
    "\n",
    "ax2.set_ylabel('Time (seconds)', fontsize=14, fontweight='bold')\n",
    "ax2.set_title('Time Efficiency', fontsize=18, fontweight='bold')\n",
    "ax2.set_yscale('log')\n",
    "ax2.legend(fontsize=12)\n",
    "ax2.grid(axis='y', linestyle='--', alpha=0.7)\n",
    "\n",
    "# Overall Title and Best Model Annotation\n",
    "if not df_res.empty:\n",
    "    best_model_data = df_res.iloc[0]\n",
    "    textstr = f\"Best Model: {best_model_data['model']}\\nAccuracy: {best_model_data['accuracy']:.4f}\\nF1 Score: {best_model_data['f1_macro']:.4f}\"\n",
    "    props = dict(boxstyle='round,pad=0.5', facecolor='lightyellow', alpha=0.8)\n",
    "    fig.text(0.75, 0.5, textstr, fontsize=14, bbox=props, ha='center')\n",
    "\n",
    "fig.suptitle('Comprehensive Model Evaluation', fontsize=22, fontweight='bold', y=0.98)\n",
    "fig.tight_layout(rect=[0, 0, 1, 0.95])\n",
    "\n",
    "# Save the final comparison figure\n",
    "final_figure_path = 'results/figures/model_comparison.png'\n",
    "plt.savefig(final_figure_path, bbox_inches='tight')\n",
    "print(f\"Final comparison figure saved to {final_figure_path}\")\n",
    "\n",
    "plt.show()"
   ]
  },
  {
   "cell_type": "markdown",
   "id": "34dfa896061a248",
   "metadata": {},
   "source": [
    "## 7. Conclusion\n",
    "\n",
    "This notebook demonstrated a complete pipeline for network intrusion detection. We preprocessed the NSL-KDD dataset, handled significant class imbalance using SMOTETomek, and performed hyperparameter tuning for three different models.\n",
    "\n",
    "Based on the results:\n",
    "- The **XGBoost model** achieved the highest F1 Macro score, making it the most balanced and effective model, especially for identifying the challenging minority attack classes.\n",
    "- In terms of efficiency, **XGBoost model** had quick training and prediction times, which could be a critical factor for real-time applications.\n",
    "\n",
    "Overall, the choice of the best model depends on the specific requirements of the application — whether the priority is maximum accuracy across all classes or deployment efficiency."
   ]
  }
 ],
 "metadata": {
  "kernelspec": {
   "display_name": "Python 3",
   "language": "python",
   "name": "python3"
  },
  "language_info": {
   "codemirror_mode": {
    "name": "ipython",
    "version": 2
   },
   "file_extension": ".py",
   "mimetype": "text/x-python",
   "name": "python",
   "nbconvert_exporter": "python",
   "pygments_lexer": "ipython2",
   "version": "2.7.6"
  }
 },
 "nbformat": 4,
 "nbformat_minor": 5
}
