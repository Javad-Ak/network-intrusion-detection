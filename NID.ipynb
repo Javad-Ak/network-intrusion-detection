{
 "cells": [
  {
   "metadata": {},
   "cell_type": "markdown",
   "source": [
    "# Network Intrusion Detection on the NSL-KDD Dataset\n",
    "\n",
    "---\n",
    "\n",
    "**Author:** Mohammad Javad Akbari\n",
    "<br>**Username:** Javad-Ak\n",
    "\n",
    "## 1. Introduction\n",
    "\n",
    "This notebook presents a comprehensive workflow for building and evaluating machine learning models for Network Intrusion Detection (NID) using the **NSL-KDD dataset**. The primary goal is to classify network traffic as either 'normal' or one of several attack types.\n",
    "\n",
    "We will explore, preprocess, and engineer features from the dataset to train three powerful classification models:\n",
    "1.  **Random Forest:** A robust ensemble model known for its high accuracy and resistance to overfitting.\n",
    "2.  **XGBoost:** A highly efficient and scalable gradient boosting implementation, often a top performer in competitions.\n",
    "3.  **Deep Neural Network (DNN):** A TensorFlow-based model capable of learning complex, non-linear patterns in the data.\n",
    "\n",
    "The process includes:\n",
    "- **Data Loading and Cleaning:** Importing the dataset and preparing it for analysis.\n",
    "- **Feature Engineering:** Creating new features to improve model performance.\n",
    "- **Handling Class Imbalance:** Using **SMOTETomek** to create a more balanced training set, which is crucial for a dataset with rare attack categories.\n",
    "- **Hyperparameter Tuning:** Employing `RandomizedSearchCV` to find the best settings for each model efficiently.\n",
    "- **Model Evaluation and Comparison:** Analyzing performance metrics (Accuracy, F1-Score) and time efficiency to determine the best overall model."
   ],
   "id": "d002fb49a11e13a4"
  },
  {
   "metadata": {},
   "cell_type": "markdown",
   "source": [
    "## 2. Setup and Library Imports\n",
    "\n",
    "First, we import the necessary libraries for data manipulation, machine learning, and visualization. We also set random seeds for TensorFlow and NumPy to ensure our results are reproducible."
   ],
   "id": "2b1fb0e66b1fec84"
  },
  {
   "metadata": {},
   "cell_type": "code",
   "outputs": [],
   "execution_count": null,
   "source": "",
   "id": "11534e79bc712e29"
  }
 ],
 "metadata": {
  "kernelspec": {
   "display_name": "Python 3",
   "language": "python",
   "name": "python3"
  },
  "language_info": {
   "codemirror_mode": {
    "name": "ipython",
    "version": 2
   },
   "file_extension": ".py",
   "mimetype": "text/x-python",
   "name": "python",
   "nbconvert_exporter": "python",
   "pygments_lexer": "ipython2",
   "version": "2.7.6"
  }
 },
 "nbformat": 4,
 "nbformat_minor": 5
}
